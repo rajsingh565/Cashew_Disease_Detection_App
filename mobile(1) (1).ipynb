{
 "cells": [
  {
   "cell_type": "code",
   "execution_count": 1,
   "id": "58bfc34f-8f20-409f-a969-ad5ad28ac40e",
   "metadata": {},
   "outputs": [],
   "source": [
    "import os\n",
    "from tensorflow.keras.applications import MobileNet\n",
    "from tensorflow.keras.preprocessing import image\n",
    "from tensorflow.keras.applications.mobilenet import preprocess_input\n",
    "from tensorflow.keras.layers import GlobalAveragePooling2D, Dense\n",
    "from tensorflow.keras.models import Model\n",
    "from sklearn.metrics import accuracy_score, precision_score, f1_score, roc_auc_score\n",
    "import matplotlib.pyplot as plt\n",
    "import numpy as np\n"
   ]
  },
  {
   "cell_type": "code",
   "execution_count": 3,
   "id": "07e0d393-58aa-47b4-9c4b-e66868590181",
   "metadata": {},
   "outputs": [],
   "source": [
    "\n",
    "# Function to load images and labels from folder\n",
    "def load_images_and_labels(folder, target_size=(224, 224)):\n",
    "    images = []\n",
    "    labels = []\n",
    "    for subfolder in os.listdir(folder):\n",
    "        subfolder_path = os.path.join(folder, subfolder)\n",
    "        label = subfolder\n",
    "        for filename in os.listdir(subfolder_path):\n",
    "            image_path = os.path.join(subfolder_path, filename)\n",
    "            try:\n",
    "                img = image.load_img(image_path, target_size=target_size)\n",
    "                img_array = image.img_to_array(img)\n",
    "                img_array = preprocess_input(img_array)\n",
    "                images.append(img_array)\n",
    "                labels.append(label)\n",
    "            except Exception as e:\n",
    "                print(f\"Error loading image: {image_path} - {str(e)}\")\n",
    "    return np.array(images), np.array(labels)\n"
   ]
  },
  {
   "cell_type": "code",
   "execution_count": 21,
   "id": "0394e752-bb24-4629-9a47-2a349a5e8ec0",
   "metadata": {},
   "outputs": [],
   "source": [
    "# Folder paths\n",
    "train_folder = 'Train/train'\n",
    "test_folder ='Test/test'\n",
    "val_folder ='Val'"
   ]
  },
  {
   "cell_type": "code",
   "execution_count": 19,
   "id": "46b5c42d-8df3-4b96-8466-67536e2e6359",
   "metadata": {},
   "outputs": [
    {
     "ename": "FileNotFoundError",
     "evalue": "[WinError 3] The system cannot find the path specified: 'Val/val'",
     "output_type": "error",
     "traceback": [
      "\u001b[1;31m---------------------------------------------------------------------------\u001b[0m",
      "\u001b[1;31mFileNotFoundError\u001b[0m                         Traceback (most recent call last)",
      "Cell \u001b[1;32mIn[19], line 4\u001b[0m\n\u001b[0;32m      2\u001b[0m X_train, y_train \u001b[38;5;241m=\u001b[39m load_images_and_labels(train_folder)\n\u001b[0;32m      3\u001b[0m X_test, y_test \u001b[38;5;241m=\u001b[39m load_images_and_labels(test_folder)\n\u001b[1;32m----> 4\u001b[0m X_val, y_val \u001b[38;5;241m=\u001b[39m load_images_and_labels(val_folder)\n",
      "Cell \u001b[1;32mIn[3], line 5\u001b[0m, in \u001b[0;36mload_images_and_labels\u001b[1;34m(folder, target_size)\u001b[0m\n\u001b[0;32m      3\u001b[0m images \u001b[38;5;241m=\u001b[39m []\n\u001b[0;32m      4\u001b[0m labels \u001b[38;5;241m=\u001b[39m []\n\u001b[1;32m----> 5\u001b[0m \u001b[38;5;28;01mfor\u001b[39;00m subfolder \u001b[38;5;129;01min\u001b[39;00m os\u001b[38;5;241m.\u001b[39mlistdir(folder):\n\u001b[0;32m      6\u001b[0m     subfolder_path \u001b[38;5;241m=\u001b[39m os\u001b[38;5;241m.\u001b[39mpath\u001b[38;5;241m.\u001b[39mjoin(folder, subfolder)\n\u001b[0;32m      7\u001b[0m     label \u001b[38;5;241m=\u001b[39m subfolder\n",
      "\u001b[1;31mFileNotFoundError\u001b[0m: [WinError 3] The system cannot find the path specified: 'Val/val'"
     ]
    }
   ],
   "source": [
    "\n",
    "# Load images and labels for training, testing, and validation\n",
    "X_train, y_train = load_images_and_labels(train_folder)\n",
    "X_test, y_test = load_images_and_labels(test_folder)\n",
    "X_val, y_val = load_images_and_labels(val_folder)\n"
   ]
  },
  {
   "cell_type": "code",
   "execution_count": 23,
   "id": "bfa91a01-d299-416a-b95f-9109bd74cf37",
   "metadata": {},
   "outputs": [],
   "source": [
    "\n",
    "# Load images and labels for training, testing, and validation\n",
    "#X_train, y_train = load_images_and_labels(train_folder)\n",
    "#X_test, y_test = load_images_and_labels(test_folder)\n",
    "X_val, y_val = load_images_and_labels(val_folder)\n"
   ]
  },
  {
   "cell_type": "code",
   "execution_count": 25,
   "id": "0104a423-2e14-49cc-9ea2-38af87d679dd",
   "metadata": {},
   "outputs": [
    {
     "name": "stderr",
     "output_type": "stream",
     "text": [
      "C:\\Users\\KIIT\\AppData\\Local\\Temp\\ipykernel_33052\\2865956719.py:2: UserWarning: `input_shape` is undefined or non-square, or `rows` is not in [128, 160, 192, 224]. Weights for input shape (224, 224) will be loaded as the default.\n",
      "  base_model = MobileNet(weights='imagenet', include_top=False)\n"
     ]
    },
    {
     "name": "stdout",
     "output_type": "stream",
     "text": [
      "Downloading data from https://storage.googleapis.com/tensorflow/keras-applications/mobilenet/mobilenet_1_0_224_tf_no_top.h5\n",
      "\u001b[1m17225924/17225924\u001b[0m \u001b[32m━━━━━━━━━━━━━━━━━━━━\u001b[0m\u001b[37m\u001b[0m \u001b[1m3s\u001b[0m 0us/step\n"
     ]
    }
   ],
   "source": [
    "# Load MobileNet model\n",
    "base_model = MobileNet(weights='imagenet', include_top=False)\n",
    "x = base_model.output\n",
    "x = GlobalAveragePooling2D()(x)\n",
    "x = Dense(1024, activation='relu')(x)\n",
    "predictions = Dense(len(set(y_train)), activation='softmax')(x)\n",
    "model = Model(inputs=base_model.input, outputs=predictions)\n"
   ]
  },
  {
   "cell_type": "code",
   "execution_count": 27,
   "id": "9f7d6d04-780b-49ef-968f-da3a694116bb",
   "metadata": {},
   "outputs": [
    {
     "name": "stdout",
     "output_type": "stream",
     "text": [
      "Epoch 1/10\n",
      "\u001b[1m201/201\u001b[0m \u001b[32m━━━━━━━━━━━━━━━━━━━━\u001b[0m\u001b[37m\u001b[0m \u001b[1m212s\u001b[0m 1s/step - accuracy: 0.7946 - loss: 0.6873 - val_accuracy: 0.9178 - val_loss: 0.2378\n",
      "Epoch 2/10\n",
      "\u001b[1m201/201\u001b[0m \u001b[32m━━━━━━━━━━━━━━━━━━━━\u001b[0m\u001b[37m\u001b[0m \u001b[1m111s\u001b[0m 550ms/step - accuracy: 0.9397 - loss: 0.1853 - val_accuracy: 0.9091 - val_loss: 0.2714\n",
      "Epoch 3/10\n",
      "\u001b[1m201/201\u001b[0m \u001b[32m━━━━━━━━━━━━━━━━━━━━\u001b[0m\u001b[37m\u001b[0m \u001b[1m110s\u001b[0m 549ms/step - accuracy: 0.9506 - loss: 0.1582 - val_accuracy: 0.9552 - val_loss: 0.1720\n",
      "Epoch 4/10\n",
      "\u001b[1m201/201\u001b[0m \u001b[32m━━━━━━━━━━━━━━━━━━━━\u001b[0m\u001b[37m\u001b[0m \u001b[1m112s\u001b[0m 556ms/step - accuracy: 0.9738 - loss: 0.0858 - val_accuracy: 0.9539 - val_loss: 0.1571\n",
      "Epoch 5/10\n",
      "\u001b[1m201/201\u001b[0m \u001b[32m━━━━━━━━━━━━━━━━━━━━\u001b[0m\u001b[37m\u001b[0m \u001b[1m106s\u001b[0m 530ms/step - accuracy: 0.9794 - loss: 0.0685 - val_accuracy: 0.9440 - val_loss: 0.1886\n",
      "Epoch 6/10\n",
      "\u001b[1m201/201\u001b[0m \u001b[32m━━━━━━━━━━━━━━━━━━━━\u001b[0m\u001b[37m\u001b[0m \u001b[1m109s\u001b[0m 541ms/step - accuracy: 0.9836 - loss: 0.0527 - val_accuracy: 0.9639 - val_loss: 0.1431\n",
      "Epoch 7/10\n",
      "\u001b[1m201/201\u001b[0m \u001b[32m━━━━━━━━━━━━━━━━━━━━\u001b[0m\u001b[37m\u001b[0m \u001b[1m107s\u001b[0m 533ms/step - accuracy: 0.9938 - loss: 0.0242 - val_accuracy: 0.9340 - val_loss: 0.2563\n",
      "Epoch 8/10\n",
      "\u001b[1m201/201\u001b[0m \u001b[32m━━━━━━━━━━━━━━━━━━━━\u001b[0m\u001b[37m\u001b[0m \u001b[1m106s\u001b[0m 529ms/step - accuracy: 0.9897 - loss: 0.0311 - val_accuracy: 0.9589 - val_loss: 0.1894\n",
      "Epoch 9/10\n",
      "\u001b[1m201/201\u001b[0m \u001b[32m━━━━━━━━━━━━━━━━━━━━\u001b[0m\u001b[37m\u001b[0m \u001b[1m107s\u001b[0m 534ms/step - accuracy: 0.9863 - loss: 0.0432 - val_accuracy: 0.9402 - val_loss: 0.2284\n",
      "Epoch 10/10\n",
      "\u001b[1m201/201\u001b[0m \u001b[32m━━━━━━━━━━━━━━━━━━━━\u001b[0m\u001b[37m\u001b[0m \u001b[1m109s\u001b[0m 543ms/step - accuracy: 0.9919 - loss: 0.0263 - val_accuracy: 0.9489 - val_loss: 0.2005\n"
     ]
    },
    {
     "data": {
      "text/plain": [
       "<keras.src.callbacks.history.History at 0x17265f1d2e0>"
      ]
     },
     "execution_count": 27,
     "metadata": {},
     "output_type": "execute_result"
    }
   ],
   "source": [
    "from sklearn.preprocessing import LabelEncoder\n",
    "\n",
    "\n",
    "# Convert string labels to integer labels\n",
    "label_encoder = LabelEncoder()\n",
    "y_train = label_encoder.fit_transform(y_train)\n",
    "y_test = label_encoder.transform(y_test)\n",
    "y_val = label_encoder.transform(y_val)\n",
    "\n",
    "# Freeze all layers in the base model\n",
    "for layer in base_model.layers:\n",
    "    layer.trainable = False\n",
    "\n",
    "# Compile the model\n",
    "model.compile(optimizer='adam', loss='sparse_categorical_crossentropy', metrics=['accuracy'])\n",
    "\n",
    "# Train the model\n",
    "model.fit(X_train, y_train, epochs=10, validation_data=(X_val, y_val))\n"
   ]
  },
  {
   "cell_type": "code",
   "execution_count": 28,
   "id": "54df541a-f4d3-4634-a12f-5bbe88665095",
   "metadata": {},
   "outputs": [
    {
     "name": "stdout",
     "output_type": "stream",
     "text": [
      "\u001b[1m201/201\u001b[0m \u001b[32m━━━━━━━━━━━━━━━━━━━━\u001b[0m\u001b[37m\u001b[0m \u001b[1m101s\u001b[0m 490ms/step\n",
      "\u001b[1m26/26\u001b[0m \u001b[32m━━━━━━━━━━━━━━━━━━━━\u001b[0m\u001b[37m\u001b[0m \u001b[1m12s\u001b[0m 456ms/step\n",
      "\u001b[1m25/25\u001b[0m \u001b[32m━━━━━━━━━━━━━━━━━━━━\u001b[0m\u001b[37m\u001b[0m \u001b[1m12s\u001b[0m 474ms/step\n"
     ]
    }
   ],
   "source": [
    "\n",
    "# Evaluate the model\n",
    "train_pred_probs = model.predict(X_train)\n",
    "train_pred = np.argmax(train_pred_probs, axis=1)\n",
    "train_accuracy = accuracy_score(y_train, train_pred)\n",
    "train_precision = precision_score(y_train, train_pred, average='weighted')\n",
    "train_f1 = f1_score(y_train, train_pred, average='weighted')\n",
    "train_roc_auc = roc_auc_score(y_train, train_pred_probs, multi_class='ovr')\n",
    "\n",
    "val_pred_probs = model.predict(X_val)\n",
    "val_pred = np.argmax(val_pred_probs, axis=1)\n",
    "val_accuracy = accuracy_score(y_val, val_pred)\n",
    "val_precision = precision_score(y_val, val_pred, average='weighted')\n",
    "val_f1 = f1_score(y_val, val_pred, average='weighted')\n",
    "val_roc_auc = roc_auc_score(y_val, val_pred_probs, multi_class='ovr')\n",
    "\n",
    "test_pred_probs = model.predict(X_test)\n",
    "test_pred = np.argmax(test_pred_probs, axis=1)\n",
    "test_accuracy = accuracy_score(y_test, test_pred)\n",
    "test_precision = precision_score(y_test, test_pred, average='weighted')\n",
    "test_f1 = f1_score(y_test, test_pred, average='weighted')\n",
    "test_roc_auc = roc_auc_score(y_test, test_pred_probs, multi_class='ovr')\n"
   ]
  },
  {
   "cell_type": "code",
   "execution_count": 31,
   "id": "74b63ed0-44bd-462c-947d-fdfd4b95be0c",
   "metadata": {},
   "outputs": [],
   "source": [
    "from sklearn.metrics import recall_score\n",
    "\n",
    "train_recall = recall_score(y_train, train_pred, average='weighted')\n",
    "val_recall = recall_score(y_val, val_pred, average='weighted')\n",
    "test_recall = recall_score(y_test, test_pred, average='weighted')\n"
   ]
  },
  {
   "cell_type": "code",
   "execution_count": 33,
   "id": "a7c1e61d-81f2-41ec-b4c2-9abedfa1427c",
   "metadata": {},
   "outputs": [
    {
     "name": "stdout",
     "output_type": "stream",
     "text": [
      "Train data Accuracy: 0.9940643548890972\n",
      "Train data Precision: 0.9941319127098539\n",
      "Train data Recall: 0.9940643548890972\n",
      "Train data F1 Score: 0.994051603669099\n",
      "Train data ROC AUC Score: 0.9999882557874604\n",
      "\n",
      "Validation data Accuracy: 0.9489414694894147\n",
      "Validation data Precision: 0.9491498111866932\n",
      "Validation data Recall: 0.9489414694894147\n",
      "Validation data F1 Score: 0.9486521840418539\n",
      "Validation data ROC AUC Score: 0.9932962953780378\n",
      "\n",
      "Test data Accuracy: 0.95\n",
      "Test data Precision: 0.9502438323020723\n",
      "Test data Recall: 0.95\n",
      "Test data F1 Score: 0.9497818505183802\n",
      "Test data ROC AUC Score: 0.9917708333333334\n"
     ]
    }
   ],
   "source": [
    "\n",
    "# Print evaluation metrics\n",
    "print(\"Train data Accuracy:\", train_accuracy)\n",
    "print(\"Train data Precision:\", train_precision)\n",
    "print(\"Train data Recall:\", train_recall)\n",
    "print(\"Train data F1 Score:\", train_f1)\n",
    "print(\"Train data ROC AUC Score:\", train_roc_auc)\n",
    "\n",
    "print(\"\\nValidation data Accuracy:\", val_accuracy)\n",
    "print(\"Validation data Precision:\", val_precision)\n",
    "print(\"Validation data Recall:\", val_recall)\n",
    "print(\"Validation data F1 Score:\", val_f1)\n",
    "print(\"Validation data ROC AUC Score:\", val_roc_auc)\n",
    "\n",
    "print(\"\\nTest data Accuracy:\", test_accuracy)\n",
    "print(\"Test data Precision:\", test_precision)\n",
    "print(\"Test data Recall:\", test_recall)\n",
    "print(\"Test data F1 Score:\", test_f1)\n",
    "print(\"Test data ROC AUC Score:\", test_roc_auc)\n",
    "\n"
   ]
  },
  {
   "cell_type": "code",
   "execution_count": 35,
   "id": "97e27882-a1ad-40ac-909b-85d000a8028c",
   "metadata": {},
   "outputs": [
    {
     "name": "stdout",
     "output_type": "stream",
     "text": [
      "Metrics\t\t\tTrain\t\tValidation\tTest\n",
      "Accuracy\t\t0.9941\t\t0.9489\t\t0.9500\n",
      "Precision\t\t0.9941\t\t0.9491\t\t0.9502\n",
      "Recall\t\t\t0.9941\t\t0.9489\t\t0.9500\n",
      "F1 Score\t\t0.9941\t\t0.9487\t\t0.9498\n",
      "ROC AUC Score\t\t1.0000\t\t0.9933\t\t0.9918\n"
     ]
    }
   ],
   "source": [
    "from sklearn.metrics import accuracy_score, precision_score, recall_score, f1_score, roc_auc_score\n",
    "\n",
    "def calculate_metrics(y_true, y_pred, y_prob):\n",
    "    accuracy = accuracy_score(y_true, y_pred)\n",
    "    precision = precision_score(y_true, y_pred)\n",
    "    recall = recall_score(y_true, y_pred)\n",
    "    f1 = f1_score(y_true, y_pred)\n",
    "    roc_auc = roc_auc_score(y_true, y_prob)\n",
    "    return accuracy, precision, recall, f1, roc_auc\n",
    "\n",
    "def print_metrics_table(train_metrics, val_metrics, test_metrics):\n",
    "    print(\"Metrics\\t\\t\\tTrain\\t\\tValidation\\tTest\")\n",
    "    print(\"Accuracy\\t\\t{:.4f}\\t\\t{:.4f}\\t\\t{:.4f}\".format(train_metrics[0], val_metrics[0], test_metrics[0]))\n",
    "    print(\"Precision\\t\\t{:.4f}\\t\\t{:.4f}\\t\\t{:.4f}\".format(train_metrics[1], val_metrics[1], test_metrics[1]))\n",
    "    print(\"Recall\\t\\t\\t{:.4f}\\t\\t{:.4f}\\t\\t{:.4f}\".format(train_metrics[2], val_metrics[2], test_metrics[2]))\n",
    "    print(\"F1 Score\\t\\t{:.4f}\\t\\t{:.4f}\\t\\t{:.4f}\".format(train_metrics[3], val_metrics[3], test_metrics[3]))\n",
    "    print(\"ROC AUC Score\\t\\t{:.4f}\\t\\t{:.4f}\\t\\t{:.4f}\".format(train_metrics[4], val_metrics[4], test_metrics[4]))\n",
    "\n",
    "# Assuming train_metrics, val_metrics, and test_metrics are tuples/lists containing metrics in the order: (accuracy, precision, recall, f1_score, roc_auc_score)\n",
    "train_metrics = (train_accuracy, train_precision, train_recall, train_f1, train_roc_auc)\n",
    "val_metrics = (val_accuracy, val_precision, val_recall, val_f1, val_roc_auc)\n",
    "test_metrics = (test_accuracy, test_precision, test_recall, test_f1, test_roc_auc)\n",
    "\n",
    "print_metrics_table(train_metrics, val_metrics, test_metrics)\n"
   ]
  },
  {
   "cell_type": "code",
   "execution_count": 37,
   "id": "8d6586fc-11af-4261-ad54-4af3ce60ee64",
   "metadata": {},
   "outputs": [
    {
     "ename": "FileNotFoundError",
     "evalue": "[Errno 2] No such file or directory: 'C:/Users/KIIT/Downloads/Cashew/Cashew/test/leaf miner/leaf miner90_.jpg'",
     "output_type": "error",
     "traceback": [
      "\u001b[1;31m---------------------------------------------------------------------------\u001b[0m",
      "\u001b[1;31mFileNotFoundError\u001b[0m                         Traceback (most recent call last)",
      "Cell \u001b[1;32mIn[37], line 22\u001b[0m\n\u001b[0;32m     20\u001b[0m \u001b[38;5;66;03m# Example usage:\u001b[39;00m\n\u001b[0;32m     21\u001b[0m image_path \u001b[38;5;241m=\u001b[39m \u001b[38;5;124m'\u001b[39m\u001b[38;5;124mC:/Users/KIIT/Downloads/Cashew/Cashew/test/leaf miner/leaf miner90_.jpg\u001b[39m\u001b[38;5;124m'\u001b[39m\n\u001b[1;32m---> 22\u001b[0m predicted_class_name, confidence_score \u001b[38;5;241m=\u001b[39m predict_image_category(image_path, model, class_names)\n\u001b[0;32m     23\u001b[0m \u001b[38;5;28mprint\u001b[39m(\u001b[38;5;124m\"\u001b[39m\u001b[38;5;124mPredicted class:\u001b[39m\u001b[38;5;124m\"\u001b[39m, predicted_class_name)\n\u001b[0;32m     24\u001b[0m \u001b[38;5;28mprint\u001b[39m(\u001b[38;5;124m\"\u001b[39m\u001b[38;5;124mConfidence score:\u001b[39m\u001b[38;5;124m\"\u001b[39m, confidence_score)\n",
      "Cell \u001b[1;32mIn[37], line 10\u001b[0m, in \u001b[0;36mpredict_image_category\u001b[1;34m(image_path, model, class_names)\u001b[0m\n\u001b[0;32m      9\u001b[0m \u001b[38;5;28;01mdef\u001b[39;00m \u001b[38;5;21mpredict_image_category\u001b[39m(image_path, model, class_names):\n\u001b[1;32m---> 10\u001b[0m     img \u001b[38;5;241m=\u001b[39m image\u001b[38;5;241m.\u001b[39mload_img(image_path, target_size\u001b[38;5;241m=\u001b[39m(\u001b[38;5;241m224\u001b[39m, \u001b[38;5;241m224\u001b[39m))\n\u001b[0;32m     11\u001b[0m     img_array \u001b[38;5;241m=\u001b[39m image\u001b[38;5;241m.\u001b[39mimg_to_array(img)\n\u001b[0;32m     12\u001b[0m     img_array \u001b[38;5;241m=\u001b[39m np\u001b[38;5;241m.\u001b[39mexpand_dims(img_array, axis\u001b[38;5;241m=\u001b[39m\u001b[38;5;241m0\u001b[39m)\n",
      "File \u001b[1;32m~\\anaconda3\\Lib\\site-packages\\keras\\src\\utils\\image_utils.py:235\u001b[0m, in \u001b[0;36mload_img\u001b[1;34m(path, color_mode, target_size, interpolation, keep_aspect_ratio)\u001b[0m\n\u001b[0;32m    233\u001b[0m     \u001b[38;5;28;01mif\u001b[39;00m \u001b[38;5;28misinstance\u001b[39m(path, pathlib\u001b[38;5;241m.\u001b[39mPath):\n\u001b[0;32m    234\u001b[0m         path \u001b[38;5;241m=\u001b[39m \u001b[38;5;28mstr\u001b[39m(path\u001b[38;5;241m.\u001b[39mresolve())\n\u001b[1;32m--> 235\u001b[0m     \u001b[38;5;28;01mwith\u001b[39;00m \u001b[38;5;28mopen\u001b[39m(path, \u001b[38;5;124m\"\u001b[39m\u001b[38;5;124mrb\u001b[39m\u001b[38;5;124m\"\u001b[39m) \u001b[38;5;28;01mas\u001b[39;00m f:\n\u001b[0;32m    236\u001b[0m         img \u001b[38;5;241m=\u001b[39m pil_image\u001b[38;5;241m.\u001b[39mopen(io\u001b[38;5;241m.\u001b[39mBytesIO(f\u001b[38;5;241m.\u001b[39mread()))\n\u001b[0;32m    237\u001b[0m \u001b[38;5;28;01melse\u001b[39;00m:\n",
      "\u001b[1;31mFileNotFoundError\u001b[0m: [Errno 2] No such file or directory: 'C:/Users/KIIT/Downloads/Cashew/Cashew/test/leaf miner/leaf miner90_.jpg'"
     ]
    }
   ],
   "source": [
    "from tensorflow.keras.preprocessing import image\n",
    "from tensorflow.keras.applications.mobilenet import preprocess_input\n",
    "import numpy as np\n",
    "\n",
    "\n",
    "# Define class names based on the unique labels found in your dataset\n",
    "class_names = sorted(os.listdir(train_folder))\n",
    "\n",
    "def predict_image_category(image_path, model, class_names):\n",
    "    img = image.load_img(image_path, target_size=(224, 224))\n",
    "    img_array = image.img_to_array(img)\n",
    "    img_array = np.expand_dims(img_array, axis=0)\n",
    "    img_array = preprocess_input(img_array)\n",
    "    preds = model.predict(img_array)\n",
    "    predicted_class = np.argmax(preds)\n",
    "    confidence_score = preds[0][predicted_class]\n",
    "    predicted_class_name = class_names[predicted_class]\n",
    "    return predicted_class_name, confidence_score\n",
    "\n",
    "# Example usage:\n",
    "image_path = 'C:/Users/KIIT/Downloads/Cashew/Cashew/test/leaf miner/leaf miner90_.jpg'\n",
    "predicted_class_name, confidence_score = predict_image_category(image_path, model, class_names)\n",
    "print(\"Predicted class:\", predicted_class_name)\n",
    "print(\"Confidence score:\", confidence_score)"
   ]
  },
  {
   "cell_type": "code",
   "execution_count": 14,
   "id": "2b0d410b-cb81-48fd-b950-d151a2b083d8",
   "metadata": {},
   "outputs": [
    {
     "name": "stdout",
     "output_type": "stream",
     "text": [
      "\u001b[1m1/1\u001b[0m \u001b[32m━━━━━━━━━━━━━━━━━━━━\u001b[0m\u001b[37m\u001b[0m \u001b[1m0s\u001b[0m 83ms/step\n",
      "Predicted class: leaf miner\n",
      "Confidence score: 0.973034\n"
     ]
    }
   ],
   "source": [
    "from tensorflow.keras.preprocessing import image\n",
    "from tensorflow.keras.applications.mobilenet import preprocess_input\n",
    "import numpy as np\n",
    "\n",
    "\n",
    "# Define class names based on the unique labels found in your dataset\n",
    "class_names = sorted(os.listdir(train_folder))\n",
    "\n",
    "def predict_image_category(image_path, model, class_names):\n",
    "    img = image.load_img(image_path, target_size=(224, 224))\n",
    "    img_array = image.img_to_array(img)\n",
    "    img_array = np.expand_dims(img_array, axis=0)\n",
    "    img_array = preprocess_input(img_array)\n",
    "    preds = model.predict(img_array)\n",
    "    predicted_class = np.argmax(preds)\n",
    "    confidence_score = preds[0][predicted_class]\n",
    "    predicted_class_name = class_names[predicted_class]\n",
    "    return predicted_class_name, confidence_score\n",
    "\n",
    "# Example usage:\n",
    "image_path = 'C:/Users/KIIT/Downloads/Cashew/Cashew/test/leaf miner/leaf miner1014_.jpg'\n",
    "predicted_class_name, confidence_score = predict_image_category(image_path, model, class_names)\n",
    "print(\"Predicted class:\", predicted_class_name)\n",
    "print(\"Confidence score:\", confidence_score)"
   ]
  },
  {
   "cell_type": "code",
   "execution_count": 18,
   "id": "8b712e31-797c-4dcd-a26e-11c85d274b80",
   "metadata": {},
   "outputs": [
    {
     "name": "stdout",
     "output_type": "stream",
     "text": [
      "\u001b[1m1/1\u001b[0m \u001b[32m━━━━━━━━━━━━━━━━━━━━\u001b[0m\u001b[37m\u001b[0m \u001b[1m0s\u001b[0m 70ms/step\n",
      "Predicted class: red rust\n",
      "Confidence score: 0.99999964\n"
     ]
    }
   ],
   "source": [
    "from tensorflow.keras.preprocessing import image\n",
    "from tensorflow.keras.applications.mobilenet import preprocess_input\n",
    "import numpy as np\n",
    "\n",
    "\n",
    "# Define class names based on the unique labels found in your dataset\n",
    "class_names = sorted(os.listdir(train_folder))\n",
    "\n",
    "def predict_image_category(image_path, model, class_names):\n",
    "    img = image.load_img(image_path, target_size=(224, 224))\n",
    "    img_array = image.img_to_array(img)\n",
    "    img_array = np.expand_dims(img_array, axis=0)\n",
    "    img_array = preprocess_input(img_array)\n",
    "    preds = model.predict(img_array)\n",
    "    predicted_class = np.argmax(preds)\n",
    "    confidence_score = preds[0][predicted_class]\n",
    "    predicted_class_name = class_names[predicted_class]\n",
    "    return predicted_class_name, confidence_score\n",
    "\n",
    "# Example usage:\n",
    "image_path = 'C:/Users/KIIT/Downloads/Cashew/Cashew/test/red rust/red rust960_.jpg'\n",
    "predicted_class_name, confidence_score = predict_image_category(image_path, model, class_names)\n",
    "print(\"Predicted class:\", predicted_class_name)\n",
    "print(\"Confidence score:\", confidence_score)"
   ]
  },
  {
   "cell_type": "code",
   "execution_count": 19,
   "id": "fe197c67-c42c-4f1c-9e08-aaa715750fe4",
   "metadata": {},
   "outputs": [
    {
     "name": "stdout",
     "output_type": "stream",
     "text": [
      "\u001b[1m1/1\u001b[0m \u001b[32m━━━━━━━━━━━━━━━━━━━━\u001b[0m\u001b[37m\u001b[0m \u001b[1m0s\u001b[0m 83ms/step\n",
      "Predicted class: red rust\n",
      "Confidence score: 1.0\n"
     ]
    }
   ],
   "source": [
    "from tensorflow.keras.preprocessing import image\n",
    "from tensorflow.keras.applications.mobilenet import preprocess_input\n",
    "import numpy as np\n",
    "\n",
    "\n",
    "# Define class names based on the unique labels found in your dataset\n",
    "class_names = sorted(os.listdir(train_folder))\n",
    "\n",
    "def predict_image_category(image_path, model, class_names):\n",
    "    img = image.load_img(image_path, target_size=(224, 224))\n",
    "    img_array = image.img_to_array(img)\n",
    "    img_array = np.expand_dims(img_array, axis=0)\n",
    "    img_array = preprocess_input(img_array)\n",
    "    preds = model.predict(img_array)\n",
    "    predicted_class = np.argmax(preds)\n",
    "    confidence_score = preds[0][predicted_class]\n",
    "    predicted_class_name = class_names[predicted_class]\n",
    "    return predicted_class_name, confidence_score\n",
    "\n",
    "# Example usage:\n",
    "image_path = 'C:/Users/KIIT/Downloads/Cashew/Cashew/test/red rust/red rust1618_.jpg'\n",
    "predicted_class_name, confidence_score = predict_image_category(image_path, model, class_names)\n",
    "print(\"Predicted class:\", predicted_class_name)\n",
    "print(\"Confidence score:\", confidence_score)"
   ]
  },
  {
   "cell_type": "code",
   "execution_count": 21,
   "id": "62e0a8c6-d805-4c43-8a9a-6a809161bb0a",
   "metadata": {},
   "outputs": [
    {
     "name": "stdout",
     "output_type": "stream",
     "text": [
      "\u001b[1m1/1\u001b[0m \u001b[32m━━━━━━━━━━━━━━━━━━━━\u001b[0m\u001b[37m\u001b[0m \u001b[1m0s\u001b[0m 71ms/step\n",
      "Predicted class: healthy\n",
      "Confidence score: 0.9999894\n"
     ]
    }
   ],
   "source": [
    "from tensorflow.keras.preprocessing import image\n",
    "from tensorflow.keras.applications.mobilenet import preprocess_input\n",
    "import numpy as np\n",
    "\n",
    "\n",
    "# Define class names based on the unique labels found in your dataset\n",
    "class_names = sorted(os.listdir(train_folder))\n",
    "\n",
    "def predict_image_category(image_path, model, class_names):\n",
    "    img = image.load_img(image_path, target_size=(224, 224))\n",
    "    img_array = image.img_to_array(img)\n",
    "    img_array = np.expand_dims(img_array, axis=0)\n",
    "    img_array = preprocess_input(img_array)\n",
    "    preds = model.predict(img_array)\n",
    "    predicted_class = np.argmax(preds)\n",
    "    confidence_score = preds[0][predicted_class]\n",
    "    predicted_class_name = class_names[predicted_class]\n",
    "    return predicted_class_name, confidence_score\n",
    "\n",
    "# Example usage:\n",
    "image_path = 'C:/Users/KIIT/Downloads/Cashew/Cashew/test/healthy/healthy111_.jpg'\n",
    "predicted_class_name, confidence_score = predict_image_category(image_path, model, class_names)\n",
    "print(\"Predicted class:\", predicted_class_name)\n",
    "print(\"Confidence score:\", confidence_score)"
   ]
  },
  {
   "cell_type": "code",
   "execution_count": 22,
   "id": "bc89d102-cda4-4a94-8778-5b8712eb1d0d",
   "metadata": {},
   "outputs": [
    {
     "name": "stdout",
     "output_type": "stream",
     "text": [
      "\u001b[1m1/1\u001b[0m \u001b[32m━━━━━━━━━━━━━━━━━━━━\u001b[0m\u001b[37m\u001b[0m \u001b[1m0s\u001b[0m 75ms/step\n",
      "Predicted class: healthy\n",
      "Confidence score: 0.7758966\n"
     ]
    }
   ],
   "source": [
    "from tensorflow.keras.preprocessing import image\n",
    "from tensorflow.keras.applications.mobilenet import preprocess_input\n",
    "import numpy as np\n",
    "\n",
    "\n",
    "# Define class names based on the unique labels found in your dataset\n",
    "class_names = sorted(os.listdir(train_folder))\n",
    "\n",
    "def predict_image_category(image_path, model, class_names):\n",
    "    img = image.load_img(image_path, target_size=(224, 224))\n",
    "    img_array = image.img_to_array(img)\n",
    "    img_array = np.expand_dims(img_array, axis=0)\n",
    "    img_array = preprocess_input(img_array)\n",
    "    preds = model.predict(img_array)\n",
    "    predicted_class = np.argmax(preds)\n",
    "    confidence_score = preds[0][predicted_class]\n",
    "    predicted_class_name = class_names[predicted_class]\n",
    "    return predicted_class_name, confidence_score\n",
    "\n",
    "# Example usage:\n",
    "image_path = 'C:/Users/KIIT/Downloads/Cashew/Cashew/test/healthy/healthy1266_.jpg'\n",
    "predicted_class_name, confidence_score = predict_image_category(image_path, model, class_names)\n",
    "print(\"Predicted class:\", predicted_class_name)\n",
    "print(\"Confidence score:\", confidence_score)"
   ]
  },
  {
   "cell_type": "code",
   "execution_count": 23,
   "id": "581d0377-34c2-44c3-ab3c-c14845571436",
   "metadata": {},
   "outputs": [
    {
     "name": "stdout",
     "output_type": "stream",
     "text": [
      "\u001b[1m1/1\u001b[0m \u001b[32m━━━━━━━━━━━━━━━━━━━━\u001b[0m\u001b[37m\u001b[0m \u001b[1m0s\u001b[0m 73ms/step\n",
      "Predicted class: anthracnose\n",
      "Confidence score: 0.9999999\n"
     ]
    }
   ],
   "source": [
    "from tensorflow.keras.preprocessing import image\n",
    "from tensorflow.keras.applications.mobilenet import preprocess_input\n",
    "import numpy as np\n",
    "\n",
    "\n",
    "# Define class names based on the unique labels found in your dataset\n",
    "class_names = sorted(os.listdir(train_folder))\n",
    "\n",
    "def predict_image_category(image_path, model, class_names):\n",
    "    img = image.load_img(image_path, target_size=(224, 224))\n",
    "    img_array = image.img_to_array(img)\n",
    "    img_array = np.expand_dims(img_array, axis=0)\n",
    "    img_array = preprocess_input(img_array)\n",
    "    preds = model.predict(img_array)\n",
    "    predicted_class = np.argmax(preds)\n",
    "    confidence_score = preds[0][predicted_class]\n",
    "    predicted_class_name = class_names[predicted_class]\n",
    "    return predicted_class_name, confidence_score\n",
    "\n",
    "# Example usage:\n",
    "image_path = 'C:/Users/KIIT/Downloads/Cashew/Cashew/test/anthracnose/anthracnose100_.jpg'\n",
    "predicted_class_name, confidence_score = predict_image_category(image_path, model, class_names)\n",
    "print(\"Predicted class:\", predicted_class_name)\n",
    "print(\"Confidence score:\", confidence_score)"
   ]
  },
  {
   "cell_type": "code",
   "execution_count": 25,
   "id": "c978eb89-d340-446d-b9a8-8aa067dbf39a",
   "metadata": {},
   "outputs": [
    {
     "name": "stdout",
     "output_type": "stream",
     "text": [
      "\u001b[1m1/1\u001b[0m \u001b[32m━━━━━━━━━━━━━━━━━━━━\u001b[0m\u001b[37m\u001b[0m \u001b[1m0s\u001b[0m 67ms/step\n",
      "Predicted class: anthracnose\n",
      "Confidence score: 0.9999995\n"
     ]
    }
   ],
   "source": [
    "from tensorflow.keras.preprocessing import image\n",
    "from tensorflow.keras.applications.mobilenet import preprocess_input\n",
    "import numpy as np\n",
    "\n",
    "\n",
    "# Define class names based on the unique labels found in your dataset\n",
    "class_names = sorted(os.listdir(train_folder))\n",
    "\n",
    "def predict_image_category(image_path, model, class_names):\n",
    "    img = image.load_img(image_path, target_size=(224, 224))\n",
    "    img_array = image.img_to_array(img)\n",
    "    img_array = np.expand_dims(img_array, axis=0)\n",
    "    img_array = preprocess_input(img_array)\n",
    "    preds = model.predict(img_array)\n",
    "    predicted_class = np.argmax(preds)\n",
    "    confidence_score = preds[0][predicted_class]\n",
    "    predicted_class_name = class_names[predicted_class]\n",
    "    return predicted_class_name, confidence_score\n",
    "\n",
    "# Example usage:\n",
    "image_path = 'C:/Users/KIIT/Downloads/Cashew/Cashew/test/anthracnose/anthracnose1560_.jpg'\n",
    "predicted_class_name, confidence_score = predict_image_category(image_path, model, class_names)\n",
    "print(\"Predicted class:\", predicted_class_name)\n",
    "print(\"Confidence score:\", confidence_score)"
   ]
  },
  {
   "cell_type": "code",
   "execution_count": 39,
   "id": "36d4c170-552c-4c16-82f2-26991f77252f",
   "metadata": {},
   "outputs": [
    {
     "name": "stderr",
     "output_type": "stream",
     "text": [
      "WARNING:absl:You are saving your model as an HDF5 file via `model.save()` or `keras.saving.save_model(model)`. This file format is considered legacy. We recommend using instead the native Keras format, e.g. `model.save('my_model.keras')` or `keras.saving.save_model(model, 'my_model.keras')`. \n"
     ]
    }
   ],
   "source": [
    "from tensorflow.keras.models import save_model\n",
    "model.save('MobileNet.h5')"
   ]
  },
  {
   "cell_type": "code",
   "execution_count": null,
   "id": "ee0107e8-a784-41f7-94a4-c5163046f62d",
   "metadata": {},
   "outputs": [],
   "source": []
  }
 ],
 "metadata": {
  "kernelspec": {
   "display_name": "Python 3 (ipykernel)",
   "language": "python",
   "name": "python3"
  },
  "language_info": {
   "codemirror_mode": {
    "name": "ipython",
    "version": 3
   },
   "file_extension": ".py",
   "mimetype": "text/x-python",
   "name": "python",
   "nbconvert_exporter": "python",
   "pygments_lexer": "ipython3",
   "version": "3.12.4"
  }
 },
 "nbformat": 4,
 "nbformat_minor": 5
}
